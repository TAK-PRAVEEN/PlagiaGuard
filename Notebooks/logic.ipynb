{
 "cells": [
  {
   "cell_type": "markdown",
   "id": "2011007f",
   "metadata": {},
   "source": [
    "## Using AST >> Syntax Comparison"
   ]
  },
  {
   "cell_type": "code",
   "execution_count": 7,
   "id": "6afe4cfb",
   "metadata": {},
   "outputs": [],
   "source": [
    "import ast\n",
    "from sentence_transformers import SentenceTransformer, util"
   ]
  },
  {
   "cell_type": "code",
   "execution_count": 8,
   "id": "0b33cb00",
   "metadata": {},
   "outputs": [],
   "source": [
    "def get_ast_structure(code_str):\n",
    "    try:\n",
    "        tree = ast.parse(code_str)\n",
    "        return ast.dump(tree)\n",
    "    except SyntaxError:\n",
    "        return None"
   ]
  },
  {
   "cell_type": "code",
   "execution_count": 9,
   "id": "3eb54366",
   "metadata": {},
   "outputs": [
    {
     "name": "stdout",
     "output_type": "stream",
     "text": [
      "Module(body=[FunctionDef(name='add', args=arguments(posonlyargs=[], args=[arg(arg='a', annotation=None, type_comment=None), arg(arg='b', annotation=None, type_comment=None)], vararg=None, kwonlyargs=[], kw_defaults=[], kwarg=None, defaults=[]), body=[Return(value=BinOp(left=Name(id='a', ctx=Load()), op=Add(), right=Name(id='b', ctx=Load())))], decorator_list=[], returns=None, type_comment=None)], type_ignores=[])\n",
      "Module(body=[FunctionDef(name='sum', args=arguments(posonlyargs=[], args=[arg(arg='x', annotation=None, type_comment=None), arg(arg='y', annotation=None, type_comment=None)], vararg=None, kwonlyargs=[], kw_defaults=[], kwarg=None, defaults=[]), body=[Return(value=BinOp(left=Name(id='x', ctx=Load()), op=Add(), right=Name(id='y', ctx=Load())))], decorator_list=[], returns=None, type_comment=None)], type_ignores=[])\n"
     ]
    }
   ],
   "source": [
    "code1 = \"def add(a, b): return a + b\"\n",
    "code2 = \"def sum(x, y): return x + y\"\n",
    "\n",
    "print(get_ast_structure(code1))\n",
    "print(get_ast_structure(code2))"
   ]
  },
  {
   "cell_type": "code",
   "execution_count": 10,
   "id": "32c91c4d",
   "metadata": {},
   "outputs": [
    {
     "name": "stdout",
     "output_type": "stream",
     "text": [
      "Similarity Score: 76.04%\n"
     ]
    }
   ],
   "source": [
    "model = SentenceTransformer('all-MiniLM-L6-v2')\n",
    "\n",
    "vec1 = model.encode(code1, convert_to_tensor=True)\n",
    "vec2 = model.encode(code2, convert_to_tensor=True)\n",
    "\n",
    "similarity = util.pytorch_cos_sim(vec1, vec2)\n",
    "print(f\"Similarity Score: {similarity.item()*100:.2f}%\")"
   ]
  },
  {
   "cell_type": "code",
   "execution_count": 13,
   "id": "35fed459",
   "metadata": {},
   "outputs": [],
   "source": [
    "code1 = \"\"\"def fibonacci(n):\n",
    "    a, b = 0, 1\n",
    "    for _ in range(n):\n",
    "        print(a, end=\" \")\n",
    "        a, b = b, a + b\n",
    "\"\"\"\n",
    "code2 = \"\"\"def F(n):\n",
    "    if n <= 1:\n",
    "        return n\n",
    "    else:\n",
    "        return F(n - 1) + F(n - 2)\n",
    "\"\"\""
   ]
  },
  {
   "cell_type": "code",
   "execution_count": 14,
   "id": "197efdd5",
   "metadata": {},
   "outputs": [
    {
     "name": "stdout",
     "output_type": "stream",
     "text": [
      "Similarity Score: 64.33%\n"
     ]
    }
   ],
   "source": [
    "model = SentenceTransformer('all-MiniLM-L6-v2')\n",
    "\n",
    "vec1 = model.encode(code1, convert_to_tensor=True)\n",
    "vec2 = model.encode(code2, convert_to_tensor=True)\n",
    "\n",
    "similarity = util.pytorch_cos_sim(vec1, vec2)\n",
    "print(f\"Similarity Score: {similarity.item()*100:.2f}%\")"
   ]
  },
  {
   "cell_type": "markdown",
   "id": "28d9c825",
   "metadata": {},
   "source": [
    "| Similarity % | Meaning                                         | Action              |\n",
    "| ------------ | ----------------------------------------------- | ------------------- |\n",
    "| 0–30%        | Likely original                                 | No issue            |\n",
    "| 30–70%       | Some overlap (could be accidental/common logic) | Review manually     |\n",
    "| 70–90%   | Likely copied or reused code                    | Investigate closely |\n",
    "| 90–100%      | Almost identical                                | Strong plagiarism   |\n"
   ]
  },
  {
   "cell_type": "markdown",
   "id": "2101d91d",
   "metadata": {},
   "source": [
    "## AST Based >> Logic Comparison"
   ]
  },
  {
   "cell_type": "code",
   "execution_count": 15,
   "id": "fc9248e3",
   "metadata": {},
   "outputs": [
    {
     "data": {
      "text/plain": [
       "26.877470355731226"
      ]
     },
     "execution_count": 15,
     "metadata": {},
     "output_type": "execute_result"
    }
   ],
   "source": [
    "# Re-import and re-run due to kernel reset\n",
    "\n",
    "import ast\n",
    "import difflib\n",
    "\n",
    "# Define the two code samples\n",
    "code1 = \"\"\"def fibonacci(n):\n",
    "    a, b = 0, 1\n",
    "    for _ in range(n):\n",
    "        print(a, end=\" \")\n",
    "        a, b = b, a + b\n",
    "\"\"\"\n",
    "\n",
    "code2 = \"\"\"def fibonacci(n):\n",
    "    if n <= 1:\n",
    "        return n\n",
    "    else:\n",
    "        return fibonacci(n - 1) + fibonacci(n - 2)\n",
    "\"\"\"\n",
    "\n",
    "# Parse into AST and dump structure\n",
    "def get_ast_structure(code):\n",
    "    try:\n",
    "        tree = ast.parse(code)\n",
    "        return ast.dump(tree, annotate_fields=False, include_attributes=False)\n",
    "    except SyntaxError:\n",
    "        return \"\"\n",
    "\n",
    "ast1 = get_ast_structure(code1)\n",
    "ast2 = get_ast_structure(code2)\n",
    "\n",
    "# Use difflib to measure structure-level similarity\n",
    "similarity = difflib.SequenceMatcher(None, ast1, ast2).ratio() * 100\n",
    "\n",
    "similarity\n"
   ]
  },
  {
   "cell_type": "code",
   "execution_count": 16,
   "id": "8c6a2b1d",
   "metadata": {},
   "outputs": [],
   "source": [
    "code1 = \"def add(a, b): return a + b\"\n",
    "code2 = \"def sum(x, y): return x + y\""
   ]
  },
  {
   "cell_type": "code",
   "execution_count": 17,
   "id": "868aa0d1",
   "metadata": {},
   "outputs": [
    {
     "data": {
      "text/plain": [
       "96.41025641025641"
      ]
     },
     "execution_count": 17,
     "metadata": {},
     "output_type": "execute_result"
    }
   ],
   "source": [
    "ast1 = get_ast_structure(code1)\n",
    "ast2 = get_ast_structure(code2)\n",
    "\n",
    "# Use difflib to measure structure-level similarity\n",
    "similarity = difflib.SequenceMatcher(None, ast1, ast2).ratio() * 100\n",
    "\n",
    "similarity"
   ]
  },
  {
   "cell_type": "code",
   "execution_count": 18,
   "id": "cfe568f4",
   "metadata": {},
   "outputs": [],
   "source": [
    "code1 = \"\"\"def fibonacci_iterative(n):\n",
    "    a, b = 0, 1\n",
    "    for _ in range(n):\n",
    "        print(a, end=\" \")\n",
    "        a, b = b, a + b\n",
    "\"\"\"\n",
    "code2 = \"\"\"def fibonacci_recursive(n):\n",
    "    if n <= 1:\n",
    "        return n\n",
    "    else:\n",
    "        return fibonacci_recursive(n-1) + fibonacci_recursive(n-2)\n",
    "\n",
    "for i in range(10):\n",
    "    print(fibonacci_recursive(i), end=\" \") # Prints the first 10 Fibonacci numbers\n",
    "\"\"\""
   ]
  },
  {
   "cell_type": "code",
   "execution_count": 19,
   "id": "21283789",
   "metadata": {},
   "outputs": [
    {
     "data": {
      "text/plain": [
       "30.59006211180124"
      ]
     },
     "execution_count": 19,
     "metadata": {},
     "output_type": "execute_result"
    }
   ],
   "source": [
    "ast1 = get_ast_structure(code1)\n",
    "ast2 = get_ast_structure(code2)\n",
    "\n",
    "# Use difflib to measure structure-level similarity\n",
    "similarity = difflib.SequenceMatcher(None, ast1, ast2).ratio() * 100\n",
    "\n",
    "similarity"
   ]
  },
  {
   "cell_type": "markdown",
   "id": "b45a4794",
   "metadata": {},
   "source": [
    "## GitHub Code Search"
   ]
  },
  {
   "cell_type": "code",
   "execution_count": null,
   "id": "81862063",
   "metadata": {},
   "outputs": [
    {
     "name": "stdout",
     "output_type": "stream",
     "text": [
      "🔍 Found 1336 matching code file(s) on GitHub:\n",
      "- recurrsion.py at https://github.com/calistus-igwilo/python/blob/796f65dd6ebf29434481f7ddfce793910c42d8ca/recurrsion.py\n",
      "- template.py at https://github.com/ArmelRandy/Self-instruct/blob/c58db251b785136e9b54ee3c915426d68d788e78/template.py\n",
      "- d12_fib.py at https://github.com/19ceng/ceng104pro/blob/ebbb930fec94fc4a8c58b30a228bee312979a409/src/d12_fib.py\n",
      "- bench.py at https://github.com/moraes/webapp-improved/blob/0e6218dcd3ba2e0ba0c6a6c87ba4fbe1eab287c4/lib/appengine-ndb-experiment/bench.py\n",
      "- FiBoNaCci.py at https://github.com/technojam/Hacktoberfest-2020-Baby/blob/d1d757d8e23a8ed0b212c2d3a757c23f97eb6c6e/FiBoNaCci.py\n"
     ]
    }
   ],
   "source": [
    "import requests\n",
    "\n",
    "# GitHub token (generate from https://github.com/settings/tokens, no scopes needed)\n",
    "# GITHUB_TOKEN = r\"token\"\n",
    "\n",
    "# Search query (can be a code fragment or function name)\n",
    "query = \"return fibonacci(n-1) + fibonacci(n-2)\"\n",
    "\n",
    "\n",
    "# GitHub Search API URL\n",
    "url = f\"https://api.github.com/search/code?q={query}+in:file+language:python\"\n",
    "\n",
    "# Headers with auth token\n",
    "headers = {\n",
    "    \"Authorization\": f\"token {GITHUB_TOKEN}\",\n",
    "    \"Accept\": \"application/vnd.github.v3+json\"\n",
    "}\n",
    "\n",
    "# Send request\n",
    "response = requests.get(url, headers=headers)\n",
    "\n",
    "# Parse results\n",
    "if response.status_code == 200:\n",
    "    results = response.json()\n",
    "    total = results['total_count']\n",
    "    print(f\"🔍 Found {total} matching code file(s) on GitHub:\")\n",
    "    \n",
    "    for item in results['items'][:5]:  # Show top 5\n",
    "        print(f\"- {item['name']} at {item['html_url']}\")\n",
    "else:\n",
    "    print(f\"❌ GitHub API error: {response.status_code}\")\n"
   ]
  },
  {
   "cell_type": "code",
   "execution_count": null,
   "id": "2e198292",
   "metadata": {},
   "outputs": [],
   "source": [
    "import requests\n",
    "\n",
    "class PlagiaGuard:\n",
    "    def __init__(self, code):\n",
    "        self.code = code\n",
    "        self.show_results()\n",
    "\n",
    "    def logic(self):\n",
    "        GITHUB_TOKEN = \"token\"\n",
    "\n",
    "        query = self.code\n",
    "\n",
    "        url = f\"https://api.github.com/search/code?q={query}+in:file+language:python\"\n",
    "\n",
    "        headers = {\n",
    "            \"Authorization\": f\"token {GITHUB_TOKEN}\",\n",
    "            \"Accept\": \"application/vnd.github.v3+json\"\n",
    "        }\n",
    "\n",
    "        return requests.get(url, headers=headers)\n",
    "\n",
    "    def output(self):\n",
    "        response = self.logic()\n",
    "        if response.status_code == 200:\n",
    "            return response.json()\n",
    "        else:\n",
    "            return False\n",
    "        \n",
    "\n",
    "    def show_results(self):\n",
    "        results = self.output()\n",
    "        if results:\n",
    "            links = {}\n",
    "            for item in results['items'][:10]:  # Show top 5\n",
    "                links[item['name']] = item['html_url']\n",
    "            return links\n",
    "        else:\n",
    "            return f\"GitHub API error: {self.logic().status_code}\"\n"
   ]
  },
  {
   "cell_type": "code",
   "execution_count": 21,
   "id": "cb9c0333",
   "metadata": {},
   "outputs": [],
   "source": [
    "pg = PlagiaGuard(\"def factorial(n)\")"
   ]
  },
  {
   "cell_type": "code",
   "execution_count": 22,
   "id": "504cc801",
   "metadata": {},
   "outputs": [
    {
     "data": {
      "text/plain": [
       "{'DEF.py': 'https://github.com/matcarballo/Inform-tica-General/blob/1f89debc6764f379cb3aa736f8da0b459493ce0a/DEF.py',\n",
       " 'ocl.py': 'https://github.com/mdipierro/ocl/blob/53b8400d27e09e857ebbf146b9dce5a17fb693b8/ocl.py',\n",
       " 'hola.py': 'https://github.com/reingart/rad2py/blob/e4802ade132d569225e8be7eca830d2f888aa5f9/hola.py',\n",
       " 'LIA.py': 'https://github.com/adelq/rosalind/blob/2ce22ed52b810f6e31be6d7d65d89c0a89356f29/LIA.py',\n",
       " 'Q.3.py': 'https://github.com/AunZaidii/practice-codes/blob/1d33ee400a0f03b7a79699b8594fb9263e972ef7/Q.3.py',\n",
       " 'app.py': 'https://github.com/Advaitgaur004/Auto-Scaling/blob/29036d8f16855378f956f60a69245ea852d645f8/app.py',\n",
       " '5-5.py': 'https://github.com/aaronlab/python-algorithm/blob/3046ea460a3f29224fba1ea03b83fed903c5c76b/5-5.py',\n",
       " '3.py': 'https://github.com/ArthurJraghatspanyan/ArtJR2003-Python_Tasks-16/blob/3d3ea0296b1defca319a704338e0afe6b02af7e2/3.py',\n",
       " 'fact.py': 'https://github.com/SanaSNavas7/Python/blob/df8ef4d34cbfc544606b445ece52ead25093fd92/fact.py',\n",
       " 'fac.py': 'https://github.com/jueunlee0529/Python/blob/2906d9c46d97623170ba38890baeb62de2d8d346/fac.py'}"
      ]
     },
     "execution_count": 22,
     "metadata": {},
     "output_type": "execute_result"
    }
   ],
   "source": [
    "pg.show_results()"
   ]
  },
  {
   "cell_type": "code",
   "execution_count": 23,
   "id": "837babf0",
   "metadata": {},
   "outputs": [
    {
     "data": {
      "text/plain": [
       "(dict_keys(['DEF.py', 'ocl.py', 'hola.py', 'LIA.py', 'Q.3.py', 'app.py', '5-5.py', '3.py', 'fact.py', 'fac.py']),\n",
       " dict_values(['https://github.com/matcarballo/Inform-tica-General/blob/1f89debc6764f379cb3aa736f8da0b459493ce0a/DEF.py', 'https://github.com/mdipierro/ocl/blob/53b8400d27e09e857ebbf146b9dce5a17fb693b8/ocl.py', 'https://github.com/reingart/rad2py/blob/e4802ade132d569225e8be7eca830d2f888aa5f9/hola.py', 'https://github.com/adelq/rosalind/blob/2ce22ed52b810f6e31be6d7d65d89c0a89356f29/LIA.py', 'https://github.com/AunZaidii/practice-codes/blob/1d33ee400a0f03b7a79699b8594fb9263e972ef7/Q.3.py', 'https://github.com/Advaitgaur004/Auto-Scaling/blob/29036d8f16855378f956f60a69245ea852d645f8/app.py', 'https://github.com/aaronlab/python-algorithm/blob/3046ea460a3f29224fba1ea03b83fed903c5c76b/5-5.py', 'https://github.com/ArthurJraghatspanyan/ArtJR2003-Python_Tasks-16/blob/3d3ea0296b1defca319a704338e0afe6b02af7e2/3.py', 'https://github.com/SanaSNavas7/Python/blob/df8ef4d34cbfc544606b445ece52ead25093fd92/fact.py', 'https://github.com/jueunlee0529/Python/blob/2906d9c46d97623170ba38890baeb62de2d8d346/fac.py']))"
      ]
     },
     "execution_count": 23,
     "metadata": {},
     "output_type": "execute_result"
    }
   ],
   "source": [
    "pg.show_results().keys(), pg.show_results().values()"
   ]
  },
  {
   "cell_type": "code",
   "execution_count": 24,
   "id": "2ab57c9e",
   "metadata": {},
   "outputs": [
    {
     "name": "stdout",
     "output_type": "stream",
     "text": [
      "DEF.py -- https://github.com/matcarballo/Inform-tica-General/blob/1f89debc6764f379cb3aa736f8da0b459493ce0a/DEF.py\n",
      "ocl.py -- https://github.com/mdipierro/ocl/blob/53b8400d27e09e857ebbf146b9dce5a17fb693b8/ocl.py\n",
      "hola.py -- https://github.com/reingart/rad2py/blob/e4802ade132d569225e8be7eca830d2f888aa5f9/hola.py\n",
      "LIA.py -- https://github.com/adelq/rosalind/blob/2ce22ed52b810f6e31be6d7d65d89c0a89356f29/LIA.py\n",
      "Q.3.py -- https://github.com/AunZaidii/practice-codes/blob/1d33ee400a0f03b7a79699b8594fb9263e972ef7/Q.3.py\n",
      "app.py -- https://github.com/Advaitgaur004/Auto-Scaling/blob/29036d8f16855378f956f60a69245ea852d645f8/app.py\n",
      "5-5.py -- https://github.com/aaronlab/python-algorithm/blob/3046ea460a3f29224fba1ea03b83fed903c5c76b/5-5.py\n",
      "3.py -- https://github.com/ArthurJraghatspanyan/ArtJR2003-Python_Tasks-16/blob/3d3ea0296b1defca319a704338e0afe6b02af7e2/3.py\n",
      "fact.py -- https://github.com/SanaSNavas7/Python/blob/df8ef4d34cbfc544606b445ece52ead25093fd92/fact.py\n",
      "fac.py -- https://github.com/jueunlee0529/Python/blob/2906d9c46d97623170ba38890baeb62de2d8d346/fac.py\n"
     ]
    }
   ],
   "source": [
    "for name, url in pg.show_results().items():\n",
    "    print(f\"{name} -- {url}\")"
   ]
  },
  {
   "cell_type": "code",
   "execution_count": 25,
   "id": "fa803222",
   "metadata": {},
   "outputs": [
    {
     "name": "stdout",
     "output_type": "stream",
     "text": [
      "0 -- https://github.com/matcarballo/Inform-tica-General/blob/1f89debc6764f379cb3aa736f8da0b459493ce0a/DEF.py\n",
      "1 -- https://github.com/mdipierro/ocl/blob/53b8400d27e09e857ebbf146b9dce5a17fb693b8/ocl.py\n",
      "2 -- https://github.com/reingart/rad2py/blob/e4802ade132d569225e8be7eca830d2f888aa5f9/hola.py\n",
      "3 -- https://github.com/adelq/rosalind/blob/2ce22ed52b810f6e31be6d7d65d89c0a89356f29/LIA.py\n",
      "4 -- https://github.com/AunZaidii/practice-codes/blob/1d33ee400a0f03b7a79699b8594fb9263e972ef7/Q.3.py\n",
      "5 -- https://github.com/Advaitgaur004/Auto-Scaling/blob/29036d8f16855378f956f60a69245ea852d645f8/app.py\n",
      "6 -- https://github.com/aaronlab/python-algorithm/blob/3046ea460a3f29224fba1ea03b83fed903c5c76b/5-5.py\n",
      "7 -- https://github.com/ArthurJraghatspanyan/ArtJR2003-Python_Tasks-16/blob/3d3ea0296b1defca319a704338e0afe6b02af7e2/3.py\n",
      "8 -- https://github.com/SanaSNavas7/Python/blob/df8ef4d34cbfc544606b445ece52ead25093fd92/fact.py\n",
      "9 -- https://github.com/jueunlee0529/Python/blob/2906d9c46d97623170ba38890baeb62de2d8d346/fac.py\n"
     ]
    }
   ],
   "source": [
    "for i, url in enumerate(pg.show_results().values()):\n",
    "    print(f\"{i} -- {url}\")"
   ]
  },
  {
   "cell_type": "code",
   "execution_count": null,
   "id": "16604d66",
   "metadata": {},
   "outputs": [],
   "source": []
  }
 ],
 "metadata": {
  "kernelspec": {
   "display_name": "venv",
   "language": "python",
   "name": "python3"
  },
  "language_info": {
   "codemirror_mode": {
    "name": "ipython",
    "version": 3
   },
   "file_extension": ".py",
   "mimetype": "text/x-python",
   "name": "python",
   "nbconvert_exporter": "python",
   "pygments_lexer": "ipython3",
   "version": "3.8.0"
  }
 },
 "nbformat": 4,
 "nbformat_minor": 5
}
